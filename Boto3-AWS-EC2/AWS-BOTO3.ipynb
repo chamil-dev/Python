{
 "cells": [
  {
   "cell_type": "markdown",
   "id": "c62cbfe2",
   "metadata": {},
   "source": [
    "# Python Boto3 EC2 Instance creation"
   ]
  },
  {
   "cell_type": "markdown",
   "id": "9a66d4f1",
   "metadata": {},
   "source": [
    "# Install boto3"
   ]
  },
  {
   "cell_type": "code",
   "execution_count": 2,
   "id": "436bb983",
   "metadata": {
    "scrolled": true
   },
   "outputs": [
    {
     "name": "stdout",
     "output_type": "stream",
     "text": [
      "Collecting boto3\n",
      "  Using cached boto3-1.34.13-py3-none-any.whl (139 kB)\n",
      "Collecting botocore<1.35.0,>=1.34.13\n",
      "  Using cached botocore-1.34.13-py3-none-any.whl (11.9 MB)\n",
      "Collecting s3transfer<0.11.0,>=0.10.0\n",
      "  Using cached s3transfer-0.10.0-py3-none-any.whl (82 kB)\n",
      "Collecting jmespath<2.0.0,>=0.7.1\n",
      "  Using cached jmespath-1.0.1-py3-none-any.whl (20 kB)\n",
      "Requirement already satisfied: urllib3<1.27,>=1.25.4 in d:\\programdata\\anaconda3\\lib\\site-packages (from botocore<1.35.0,>=1.34.13->boto3) (1.26.7)\n",
      "Requirement already satisfied: python-dateutil<3.0.0,>=2.1 in d:\\programdata\\anaconda3\\lib\\site-packages (from botocore<1.35.0,>=1.34.13->boto3) (2.8.2)\n",
      "Requirement already satisfied: six>=1.5 in d:\\programdata\\anaconda3\\lib\\site-packages (from python-dateutil<3.0.0,>=2.1->botocore<1.35.0,>=1.34.13->boto3) (1.16.0)\n",
      "Installing collected packages: jmespath, botocore, s3transfer, boto3\n",
      "Successfully installed boto3-1.34.13 botocore-1.34.13 jmespath-1.0.1 s3transfer-0.10.0\n",
      "Note: you may need to restart the kernel to use updated packages.\n"
     ]
    }
   ],
   "source": [
    "pip install boto3"
   ]
  },
  {
   "cell_type": "markdown",
   "id": "883089f9",
   "metadata": {},
   "source": [
    "# Import boto3"
   ]
  },
  {
   "cell_type": "code",
   "execution_count": 1,
   "id": "ca767763",
   "metadata": {},
   "outputs": [],
   "source": [
    "import boto3\n",
    "import time"
   ]
  },
  {
   "cell_type": "markdown",
   "id": "3032aae7",
   "metadata": {},
   "source": [
    "# AWS Credentials and region"
   ]
  },
  {
   "cell_type": "code",
   "execution_count": 2,
   "id": "e67d232e",
   "metadata": {},
   "outputs": [],
   "source": [
    "aws_access_key_id = 'xxxxxxxxxxxxx'\n",
    "aws_secret_access_key = 'xxxxxxxxxxx'\n",
    "region = 'us-east-1'"
   ]
  },
  {
   "cell_type": "markdown",
   "id": "30fcb75a",
   "metadata": {},
   "source": [
    "# Initialize AWS EC2 Client"
   ]
  },
  {
   "cell_type": "code",
   "execution_count": 3,
   "id": "b073bed4",
   "metadata": {},
   "outputs": [],
   "source": [
    "\n",
    "ec2 = boto3.client('ec2', aws_access_key_id=aws_access_key_id,\n",
    "                   aws_secret_access_key=aws_secret_access_key,\n",
    "                   region_name=region)"
   ]
  },
  {
   "cell_type": "markdown",
   "id": "c87e99a1",
   "metadata": {},
   "source": [
    "#  List all EC2 instances"
   ]
  },
  {
   "cell_type": "code",
   "execution_count": 5,
   "id": "042f7b6a",
   "metadata": {},
   "outputs": [
    {
     "name": "stdout",
     "output_type": "stream",
     "text": [
      "List of EC2 Instances:\n",
      "Instance ID: i-0093138edb61f9d42, State: terminated\n"
     ]
    }
   ],
   "source": [
    "def list_ec2_instances():\n",
    "    response = ec2.describe_instances()\n",
    "    instances = []\n",
    "    for reservation in response['Reservations']:\n",
    "        for instance in reservation['Instances']:\n",
    "            instances.append(instance)\n",
    "    return instances\n",
    "\n",
    "if __name__ == \"__main__\":\n",
    "    # Retrieve and print the list of EC2 instances\n",
    "    ec2_instances = list_ec2_instances()\n",
    "    print(\"List of EC2 Instances:\")\n",
    "    for instance in ec2_instances:\n",
    "        print(f\"Instance ID: {instance['InstanceId']}, State: {instance['State']['Name']}\")"
   ]
  },
  {
   "cell_type": "markdown",
   "id": "6f53e2d8",
   "metadata": {},
   "source": [
    "# Terminate EC2"
   ]
  },
  {
   "cell_type": "code",
   "execution_count": 8,
   "id": "bd5bb2a1",
   "metadata": {},
   "outputs": [
    {
     "name": "stdout",
     "output_type": "stream",
     "text": [
      "Instance i-090c75f8c21cb96ff termination initiated.\n"
     ]
    }
   ],
   "source": [
    "# Terminate an EC2 instance by its instance ID\n",
    "def terminate_ec2_instance(instance_id):\n",
    "    ec2.terminate_instances(InstanceIds=[instance_id])\n",
    "    print(f\"Instance {instance_id} termination initiated.\")\n",
    "    \n",
    "if __name__ == \"__main__\":\n",
    "    # Replace 'YOUR_INSTANCE_ID_TO_TERMINATE' with the instance ID you want to terminate\n",
    "    instance_to_terminate = instance['InstanceId']\n",
    "\n",
    "    # Terminate the specified EC2 instance\n",
    "    terminate_ec2_instance(instance_to_terminate)"
   ]
  },
  {
   "cell_type": "markdown",
   "id": "3b07ec40",
   "metadata": {},
   "source": [
    "# Create EC2"
   ]
  },
  {
   "cell_type": "code",
   "execution_count": 4,
   "id": "48d4d3ad",
   "metadata": {
    "scrolled": true
   },
   "outputs": [
    {
     "name": "stdout",
     "output_type": "stream",
     "text": [
      "EC2 Instance i-0093138edb61f9d42 is being created...\n",
      "EC2 Instance Public IP: 34.203.252.249\n"
     ]
    }
   ],
   "source": [
    "# Create EC2 instance\n",
    "def create_ec2_instance():\n",
    "    response = ec2.run_instances(\n",
    "        ImageId='ami-0fa1ca9559f1892ec',  # Replace with your AMI ID\n",
    "        InstanceType='t2.micro',  # Replace with desired instance type\n",
    "        MinCount=1,\n",
    "        MaxCount=1,\n",
    "        KeyName='cmbkey',  # Replace with your key pair name\n",
    "        SecurityGroups=['WebServerSecurityGroup']  # Replace with your security group\n",
    "    )\n",
    "    return response['Instances'][0]['InstanceId']\n",
    "\n",
    "# Get public IP of the instance\n",
    "def get_instance_public_ip(instance_id):\n",
    "    instance = ec2.describe_instances(InstanceIds=[instance_id])\n",
    "    return instance['Reservations'][0]['Instances'][0]['PublicIpAddress']\n",
    "\n",
    "if __name__ == \"__main__\":\n",
    "    # Create EC2 instance\n",
    "    instance_id = create_ec2_instance()\n",
    "    print(f\"EC2 Instance {instance_id} is being created...\")\n",
    "\n",
    "    # Wait for the instance to be running\n",
    "    instance_state = ''\n",
    "    while instance_state != 'running':\n",
    "        instance = ec2.describe_instances(InstanceIds=[instance_id])\n",
    "        instance_state = instance['Reservations'][0]['Instances'][0]['State']['Name']\n",
    "        time.sleep(5)\n",
    "\n",
    "    # Once the instance is running, fetch and display the public IP\n",
    "    public_ip = get_instance_public_ip(instance_id)\n",
    "    print(f\"EC2 Instance Public IP: {public_ip}\")"
   ]
  },
  {
   "cell_type": "code",
   "execution_count": null,
   "id": "eaa06c2b",
   "metadata": {},
   "outputs": [],
   "source": []
  }
 ],
 "metadata": {
  "kernelspec": {
   "display_name": "Python 3 (ipykernel)",
   "language": "python",
   "name": "python3"
  },
  "language_info": {
   "codemirror_mode": {
    "name": "ipython",
    "version": 3
   },
   "file_extension": ".py",
   "mimetype": "text/x-python",
   "name": "python",
   "nbconvert_exporter": "python",
   "pygments_lexer": "ipython3",
   "version": "3.9.7"
  }
 },
 "nbformat": 4,
 "nbformat_minor": 5
}
